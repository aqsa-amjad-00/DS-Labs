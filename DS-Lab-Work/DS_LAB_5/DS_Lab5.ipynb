{
 "cells": [
  {
   "cell_type": "markdown",
   "id": "9550dda5-2d5d-49d3-b789-10f5b085d065",
   "metadata": {},
   "source": [
    "# Task: FIFO Warm‑Up (List)\n",
    "\n",
    "(Queue) is a linear data structure that follow First In First out rule(FIFO)."
   ]
  },
  {
   "cell_type": "code",
   "execution_count": 2,
   "id": "ed21fed5-9d5e-4750-8345-b28caa99bb6e",
   "metadata": {},
   "outputs": [
    {
     "name": "stdout",
     "output_type": "stream",
     "text": [
      "Start: []\n",
      "After enqueue A: ['A']\n",
      "After enqueue B: ['A', 'B']\n",
      "After enqueue C: ['A', 'B', 'C']\n",
      "After dequeue -> A | Queue: ['B', 'C']\n",
      "After dequeue -> B | Queue: ['C']\n",
      "After dequeue -> C | Queue: []\n",
      "Removed order: A B C\n"
     ]
    }
   ],
   "source": [
    " q = []                  \n",
    "print(\"Start:\", q)\n",
    " q.append('A')           \n",
    "# start empty\n",
    " # enqueue A\n",
    " print(\"After enqueue A:\", q)\n",
    " q.append('B')           \n",
    "# enqueue B\n",
    " print(\"After enqueue B:\", q)\n",
    " q.append('C')           \n",
    "# enqueue C\n",
    "print(\"After enqueue C:\", q)\n",
    " out1 = q.pop(0)         # dequeue -> 'A'\n",
    " print(\"After dequeue ->\", out1, \"| Queue:\", q)\n",
    " out2 = q.pop(0)         # dequeue -> 'B'\n",
    " print(\"After dequeue ->\", out2, \"| Queue:\", q)\n",
    " out3 = q.pop(0)         # dequeue -> 'C'\n",
    " print(\"After dequeue ->\", out3, \"| Queue:\", q)\n",
    " print('Removed order:', out1, out2, out3)"
   ]
  },
  {
   "cell_type": "markdown",
   "id": "f1b091fe-049b-4e99-a951-a27c877cdb7b",
   "metadata": {},
   "source": [
    " # Task: Teaching Queue (list-backed)"
   ]
  },
  {
   "cell_type": "code",
   "execution_count": 13,
   "id": "8ce3b714-1869-4287-b461-f8d53a307a33",
   "metadata": {},
   "outputs": [
    {
     "name": "stdout",
     "output_type": "stream",
     "text": [
      "Init -> []\n",
      "enqueue(10) -> [10]\n",
      "enqueue(20) -> [10, 20]\n",
      "dequeue() -> 10 | [20]\n",
      "front() -> 20 | [20]\n",
      "is_empty -> False\n"
     ]
    }
   ],
   "source": [
    " class Queue:\n",
    "    def __init__(self):\n",
    "        self.items = []                 # internal list to hold elements\n",
    "        print(\"Init ->\", self.items)\n",
    "    def is_empty(self):\n",
    "        return len(self.items) == 0     # empty if length == 0\n",
    "    def enqueue(self, x):\n",
    "        self.items.append(x)            # append at end (rear)\n",
    "        print(f\"enqueue({x}) ->\", self.items)\n",
    "    def dequeue(self):\n",
    "        if self.is_empty():\n",
    "            print(\"dequeue() -> Underflow (None) |\", self.items)\n",
    "            return None                 # signal underflow\n",
    "        val = self.items.pop(0)         # remove & return element at index 0 (fr\n",
    "        print(f\"dequeue() -> {val} |\", self.items)\n",
    "        return val\n",
    "        \n",
    "    def front(self):\n",
    "        if self.is_empty():\n",
    "            print(\"front() -> None |\", self.items)\n",
    "            return None\n",
    "        print(\"front() ->\", self.items[0], \"|\", self.items)\n",
    "        return self.items[0]            # peek front without removing\n",
    " # quick test with step-by-step tracing\n",
    " q = Queue()\n",
    " q.enqueue(10)\n",
    " q.enqueue(20)\n",
    " _ = q.dequeue()     # expect 10\n",
    " _ = q.front()       # expect 20\n",
    " print('is_empty ->', q.is_empty())  # expect False"
   ]
  },
  {
   "cell_type": "markdown",
   "id": "b64bf39d-d936-4f06-bbc4-c1bba3157ddc",
   "metadata": {},
   "source": [
    "# Task: Fixed-Size Array Queue — See the Waste"
   ]
  },
  {
   "cell_type": "code",
   "execution_count": 20,
   "id": "9c4f1ce0-b93d-4d85-ba8c-7288a6ed6f74",
   "metadata": {},
   "outputs": [
    {
     "name": "stdout",
     "output_type": "stream",
     "text": [
      "dequeue -> 10\n",
      "dequeue -> 20\n",
      "front -> 30\n",
      "state -> count= 1 front= 2 rear = 2\n",
      "active -> [30]\n"
     ]
    }
   ],
   "source": [
    "class ArrayQueue:\n",
    "    def __init__(self, size):\n",
    "        self.size = size\n",
    "        self.a = [None] * size\n",
    "        self.front = 0\n",
    "        self.rear = -1\n",
    "        self.count = 0\n",
    "\n",
    "    def is_empty(self):\n",
    "        return self.count==0\n",
    "\n",
    "    def is_full(self):\n",
    "        return self.count==self.size\n",
    "\n",
    "    def enqueue(self, x):\n",
    "        if self.is_full():\n",
    "            print(\"Overflow\")\n",
    "            return False\n",
    "        self.rear +=1\n",
    "        self.a[self.rear]=x\n",
    "        self.count +=1\n",
    "        return True\n",
    "\n",
    "    def dequeue(self):\n",
    "        if self.is_empty():\n",
    "            print(\"underflow\")\n",
    "            return None\n",
    "        val =self.a[self.front]\n",
    "        self.front +=1\n",
    "        self.count -=1\n",
    "        return val\n",
    "\n",
    "    def front_val(self):\n",
    "        if self.is_empty():\n",
    "            return None\n",
    "        return self.a[self.front]\n",
    "\n",
    "aq =ArrayQueue(5)\n",
    "aq.enqueue(10);aq.enqueue(20);aq.enqueue(30)\n",
    "print('dequeue ->',aq.dequeue())\n",
    "print('dequeue ->',aq.dequeue())\n",
    "print('front ->',aq.front_val())\n",
    "print('state ->','count=', aq.count, 'front=' , aq.front, 'rear =', aq.rear)\n",
    "print('active ->', aq.a[aq.front:aq.rear+1])"
   ]
  },
  {
   "cell_type": "markdown",
   "id": "4d83c88f-75bc-47d6-9b6f-e192bb73c4bf",
   "metadata": {},
   "source": [
    "# Task: Circular Queue __ Wrap-Around with%"
   ]
  },
  {
   "cell_type": "code",
   "execution_count": 25,
   "id": "7a9a40d9-ab4f-430f-b99e-8504e9bab80b",
   "metadata": {},
   "outputs": [
    {
     "name": "stdout",
     "output_type": "stream",
     "text": [
      "start   -> [10, 20, 30, 40]\n",
      "dequeue -> 10\n",
      "dequeue -> 20\n",
      "mid     -> [30, 40]\n",
      "after   -> [30, 40, 50, 60]\n",
      "front   -> 30\n",
      "state   -> front= 2 rear= 0 count= 4\n"
     ]
    }
   ],
   "source": [
    "class CircularQueue:\n",
    " def __init__(self, size):\n",
    "     self.size = size\n",
    "     self.a = [None] * size\n",
    "     self.front = 0\n",
    "     self.rear = -1\n",
    "     self.count = 0\n",
    " def is_empty(self):\n",
    "     return self.count == 0\n",
    " def is_full(self):\n",
    "        return self.count == self.size\n",
    " def enqueue(self, x):\n",
    "     if self.is_full():\n",
    "         print(\"Overflow\")\n",
    "         return False\n",
    "     self.rear = (self.rear + 1) % self.size\n",
    "     self.a[self.rear] = x\n",
    "     self.count += 1\n",
    "     return True\n",
    " def dequeue(self):\n",
    "     if self.is_empty():\n",
    "         print(\"Underflow\")\n",
    "         return None\n",
    "     val = self.a[self.front]\n",
    "     self.front = (self.front + 1) % self.size\n",
    "     self.count -= 1\n",
    "     return val\n",
    " def front_val(self):\n",
    "     if self.is_empty():\n",
    "         return None\n",
    "     return self.a[self.front]\n",
    " def to_list(self):\n",
    " # return logical order of elements from front, length = count\n",
    "     res = []\n",
    "     idx = self.front\n",
    "     for _ in range(self.count):\n",
    "         res.append(self.a[idx])\n",
    "         idx = (idx + 1) % self.size\n",
    "     return res\n",
    " # demo: wrap-around behavior\n",
    "cq = CircularQueue(5)\n",
    "for x in [10, 20, 30, 40]:\n",
    "     cq.enqueue(x)\n",
    "print('start   ->', cq.to_list())\n",
    "\n",
    "print('dequeue ->', cq.dequeue())        \n",
    "print('dequeue ->', cq.dequeue())        \n",
    "print('mid     ->', cq.to_list())        \n",
    "\n",
    "cq.enqueue(50); cq.enqueue(60)           \n",
    "print('after   ->', cq.to_list())        \n",
    "print('front   ->', cq.front_val())\n",
    "print('state   ->', 'front=', cq.front, 'rear=', cq.rear, 'count=', cq.count)"
   ]
  },
  {
   "cell_type": "markdown",
   "id": "df1b559d-0656-4b39-b73f-1c745292ed0b",
   "metadata": {},
   "source": [
    "# Task: Mini‑Project: Printer Jobs (FCFS)"
   ]
  },
  {
   "cell_type": "code",
   "execution_count": 40,
   "id": "fe70f89e-fcdf-4ffb-8672-327bb825f254",
   "metadata": {},
   "outputs": [
    {
     "name": "stdout",
     "output_type": "stream",
     "text": [
      "Incoming jobs: ['J1', 'J2', 'J3', 'J4', 'J5']\n",
      "Overflow\n",
      "Queue full, job dropped: J5\n",
      "Serviced order: ['J1']\n"
     ]
    }
   ],
   "source": [
    " # ---- Printer Job Simulation ---\n",
    "def run_printer_sim(jobs, capacity=8):\n",
    "    q = CircularQueue(capacity)\n",
    "    print(\"Incoming jobs:\", jobs)\n",
    "    for j in jobs:\n",
    "        if not q.enqueue(j):\n",
    "            print(\"Queue full, job dropped:\", j)   # simple handling\n",
    "            serviced = []\n",
    "            while not q.is_empty():\n",
    "                serviced.append(q.dequeue())\n",
    "                print(\"Serviced order:\", serviced)\n",
    "                return serviced\n",
    " # demo\n",
    "jobs = [\"J1\",\"J2\",\"J3\",\"J4\",\"J5\"]\n",
    "serviced = run_printer_sim(jobs, capacity=4)"
   ]
  }
 ],
 "metadata": {
  "kernelspec": {
   "display_name": "Python 3 (ipykernel)",
   "language": "python",
   "name": "python3"
  },
  "language_info": {
   "codemirror_mode": {
    "name": "ipython",
    "version": 3
   },
   "file_extension": ".py",
   "mimetype": "text/x-python",
   "name": "python",
   "nbconvert_exporter": "python",
   "pygments_lexer": "ipython3",
   "version": "3.13.5"
  }
 },
 "nbformat": 4,
 "nbformat_minor": 5
}
