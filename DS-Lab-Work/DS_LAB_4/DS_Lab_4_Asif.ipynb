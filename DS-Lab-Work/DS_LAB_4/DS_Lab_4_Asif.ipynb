{
 "cells": [
  {
   "cell_type": "markdown",
   "id": "95bb6aa7",
   "metadata": {},
   "source": [
    "\n",
    "# 🧠 OOP Data Structures — Lab 4 (2 Hours)\n",
    "\n",
    "### Student Info:\n",
    "Name: `Muhammad Asif`  \n",
    "Roll: `2024-csre-008`  \n",
    "Section: `Evening`\n",
    "\n",
    "---\n"
   ]
  },
  {
   "cell_type": "markdown",
   "id": "deb21598",
   "metadata": {},
   "source": [
    "## ✅ Task 1: Stack Class — Lecture 6"
   ]
  },
  {
   "cell_type": "code",
   "execution_count": 1,
   "id": "c753313c",
   "metadata": {},
   "outputs": [
    {
     "name": "stdout",
     "output_type": "stream",
     "text": [
      "Is stack empty? True\n",
      "Current Stack: []\n",
      "Pushed 10 → Stack: [10]\n",
      "Pushed 20 → Stack: [10, 20]\n",
      "Peek → 20\n",
      "Stack after peek: [10, 20]\n",
      "Pop → 20\n",
      "Stack after pop: [10]\n",
      "Pop → 10\n",
      "Stack after pop: []\n",
      "Is stack empty? True\n",
      "Error: Stack underflow\n"
     ]
    }
   ],
   "source": [
    "\n",
    "class Stack:\n",
    "    def __init__(self):\n",
    "        self._data = []\n",
    "\n",
    "    def push(self, item):\n",
    "        self._data.append(item)\n",
    "\n",
    "    def pop(self):\n",
    "        if self.is_empty():\n",
    "            raise IndexError(\"Stack underflow\")\n",
    "        return self._data.pop()\n",
    "\n",
    "    def peek(self):\n",
    "        if self.is_empty():\n",
    "            raise IndexError(\"Empty stack\")\n",
    "        return self._data[-1]\n",
    "\n",
    "    def is_empty(self):\n",
    "        return len(self._data) == 0\n",
    "\n",
    "    def size(self):\n",
    "        return len(self._data)\n",
    "\n",
    "# --- Quick tests ---\n",
    "s = Stack()\n",
    "print(\"Is stack empty?\", s.is_empty())\n",
    "print(\"Current Stack:\", s._data)\n",
    "\n",
    "s.push(10)\n",
    "print(\"Pushed 10 → Stack:\", s._data)\n",
    "\n",
    "s.push(20)\n",
    "print(\"Pushed 20 → Stack:\", s._data)\n",
    "\n",
    "print(\"Peek →\", s.peek())\n",
    "print(\"Stack after peek:\", s._data)\n",
    "\n",
    "print(\"Pop →\", s.pop())\n",
    "print(\"Stack after pop:\", s._data)\n",
    "\n",
    "print(\"Pop →\", s.pop())\n",
    "print(\"Stack after pop:\", s._data)\n",
    "\n",
    "print(\"Is stack empty?\", s.is_empty())\n",
    "try:\n",
    "    s.pop()\n",
    "except IndexError as e:\n",
    "    print(\"Error:\", e)"
   ]
  },
  {
   "cell_type": "markdown",
   "id": "2ac1804a",
   "metadata": {},
   "source": [
    "\n",
    "### 📝 Explanation: Stack Class\n",
    "\n",
    "A **stack** follows the **LIFO (Last In, First Out)** principle — the last element added is the first one removed.\n",
    "\n",
    "**Key points:**\n",
    "- `push()` adds an element to the top.\n",
    "- `pop()` removes the top element.\n",
    "- `peek()` looks at the top without removing it.\n",
    "- `is_empty()` checks if stack has no elements.\n",
    "- `size()` tells how many items are in the stack.\n",
    "\n",
    "**Example flow:**\n",
    "1. Push 10 → `[10]`\n",
    "2. Push 20 → `[10, 20]`\n",
    "3. Peek → `20`\n",
    "4. Pop → removes `20`, left `[10]`\n",
    "5. Pop again → removes `10`, stack becomes empty `[]`\n",
    "\n",
    "If you try to pop from an empty stack, you get an **IndexError (Stack underflow)**.\n"
   ]
  },
  {
   "cell_type": "markdown",
   "id": "8e67590d",
   "metadata": {},
   "source": [
    "## ✅ Task 2: BracketChecker — Balanced Parentheses"
   ]
  },
  {
   "cell_type": "code",
   "execution_count": 2,
   "id": "c1429430",
   "metadata": {},
   "outputs": [
    {
     "name": "stdout",
     "output_type": "stream",
     "text": [
      "{[()]} → Balanced? True\n",
      "([)] → Balanced? False\n",
      "(((()))) → Balanced? True\n",
      ")( → Balanced? False\n"
     ]
    }
   ],
   "source": [
    "\n",
    "class BracketChecker:\n",
    "    def __init__(self):\n",
    "        self._stack = Stack()\n",
    "\n",
    "    def _is_open(self, ch):\n",
    "        return ch in \"([{\"\n",
    "    \n",
    "    def _matches(self, open_br, close_br):\n",
    "        pairs = {')': '(', ']': '[', '}': '{'}\n",
    "        return pairs.get(close_br) == open_br\n",
    "\n",
    "    def is_balanced(self, expr: str) -> bool:\n",
    "        self._stack = Stack()\n",
    "        for ch in expr:\n",
    "            if self._is_open(ch):\n",
    "                self._stack.push(ch)\n",
    "            elif ch in \")]}\":\n",
    "                if self._stack.is_empty():\n",
    "                    return False\n",
    "                top = self._stack.pop()\n",
    "                if not self._matches(top, ch):\n",
    "                    return False\n",
    "        return self._stack.is_empty()\n",
    "\n",
    "# Quick tests\n",
    "bc = BracketChecker()\n",
    "for expr in [\"{[()]}\", \"([)]\", \"(((())))\", \")(\"]:\n",
    "    print(expr, \"→ Balanced?\", bc.is_balanced(expr))\n"
   ]
  },
  {
   "cell_type": "markdown",
   "id": "846defb3",
   "metadata": {},
   "source": [
    "\n",
    "### 📝 Explanation: BracketChecker\n",
    "\n",
    "This program checks whether an expression has **balanced parentheses**, like `()`, `[]`, or `{}`.\n",
    "\n",
    "**How it works:**\n",
    "1. Read expression character by character.\n",
    "2. If it’s an opening bracket `(`, `[`, `{`, push it onto the stack.\n",
    "3. If it’s a closing bracket `)`, `]`, `}`, pop from stack and check if they match.\n",
    "4. If at any point the brackets don’t match or stack is empty too early → unbalanced.\n",
    "5. At the end, if the stack is empty → expression is balanced.\n",
    "\n",
    "**Example:**\n",
    "```\n",
    "{[()]} → Balanced ✅\n",
    "([)] → Not Balanced ❌ (wrong order)\n",
    "(((()))) → Balanced ✅\n",
    ")( → Not Balanced ❌ (closing first)\n",
    "```\n"
   ]
  },
  {
   "cell_type": "markdown",
   "id": "8c5b2f51",
   "metadata": {},
   "source": [
    "## ✅ Task 3: Infix → Postfix Converter"
   ]
  },
  {
   "cell_type": "code",
   "execution_count": 5,
   "id": "4891a31e",
   "metadata": {},
   "outputs": [
    {
     "name": "stdout",
     "output_type": "stream",
     "text": [
      "A+B*C → ABC*+\n",
      "(A+B)*C → AB+C*\n",
      "A^B^C → ABC^^\n",
      "A*(B+C*D) → ABCD*+*\n"
     ]
    }
   ],
   "source": [
    "\n",
    "class InfixToPostfix:\n",
    "    def __init__(self):\n",
    "        self._prec = {'^': 3, '*': 2, '/': 2, '+': 1, '-': 1}\n",
    "        self._right_assoc = {'^'}\n",
    "        self._stack = Stack()\n",
    "\n",
    "    def _is_operand(self, ch):\n",
    "        return ch.isalnum()\n",
    "\n",
    "    def convert(self, infix: str) -> str:\n",
    "        out = []\n",
    "        self._stack = Stack()\n",
    "        for ch in infix.replace(\" \", \"\"):\n",
    "            if self._is_operand(ch):\n",
    "                out.append(ch)\n",
    "            elif ch == '(':\n",
    "                self._stack.push(ch)\n",
    "            elif ch == ')':\n",
    "                while not self._stack.is_empty() and self._stack.peek() != '(':\n",
    "                    out.append(self._stack.pop())\n",
    "                if self._stack.is_empty():\n",
    "                    raise ValueError(\"Mismatched parentheses\")\n",
    "                self._stack.pop()\n",
    "            else:\n",
    "                while (not self._stack.is_empty()\n",
    "                       and self._stack.peek() != '('\n",
    "                       and (self._prec[self._stack.peek()] > self._prec[ch]\n",
    "                            or (self._prec[self._stack.peek()] == self._prec[ch]\n",
    "                                and ch not in self._right_assoc))):\n",
    "                    out.append(self._stack.pop())\n",
    "                self._stack.push(ch)\n",
    "        while not self._stack.is_empty():\n",
    "            top = self._stack.pop()\n",
    "            if top == '(':\n",
    "                raise ValueError(\"Mismatched parentheses\")\n",
    "            out.append(top)\n",
    "        return \"\".join(out)\n",
    "\n",
    "conv = InfixToPostfix()\n",
    "for expr in [\"A+B*C\", \"(A+B)*C\", \"A^B^C\", \"A*(B+C*D)\"]:\n",
    "    print(f\"{expr} → {conv.convert(expr)}\")\n"
   ]
  },
  {
   "cell_type": "markdown",
   "id": "3ca51043",
   "metadata": {},
   "source": [
    "\n",
    "### 📝 Explanation: Infix → Postfix Converter\n",
    "\n",
    "**Infix expression**: operators are between operands (e.g., `A + B * C`)  \n",
    "**Postfix expression (RPN)**: operators come **after** operands (e.g., `A B C * +`).\n",
    "\n",
    "**Why convert?**\n",
    "Computers can evaluate postfix easily — no need for parentheses or precedence rules.\n",
    "\n",
    "**Algorithm Steps:**\n",
    "1. If it’s an operand → add to output.\n",
    "2. If it’s `(` → push to stack.\n",
    "3. If it’s `)` → pop until matching `(`.\n",
    "4. If it’s an operator → pop higher/equal precedence operators, then push new one.\n",
    "5. At the end → pop all remaining operators.\n",
    "\n",
    "**Examples:**\n",
    "```\n",
    "A+B*C → ABC*+\n",
    "(A+B)*C → AB+C*\n",
    "A^B^C → ABC^^\n",
    "A*(B+C*D) → ABCD*+*\n",
    "```\n"
   ]
  },
  {
   "cell_type": "markdown",
   "id": "f2dea64f",
   "metadata": {},
   "source": [
    "## ✅ Task 4: Postfix Evaluator"
   ]
  },
  {
   "cell_type": "code",
   "execution_count": 6,
   "id": "537f3432",
   "metadata": {},
   "outputs": [
    {
     "name": "stdout",
     "output_type": "stream",
     "text": [
      "432+* → 20.0\n",
      "23+5* → 25.0\n",
      "82/3- → 1.0\n"
     ]
    }
   ],
   "source": [
    "\n",
    "class PostfixEvaluator:\n",
    "    def __init__(self):\n",
    "        self._stack = Stack()\n",
    "\n",
    "    def _apply(self, op, b, a):\n",
    "        if op == '+': return a + b\n",
    "        if op == '-': return a - b\n",
    "        if op == '*': return a * b\n",
    "        if op == '/': return a / b\n",
    "        if op == '^': return a ** b\n",
    "        raise ValueError(f\"Unknown operator {op}\")\n",
    "\n",
    "    def evaluate(self, postfix: str) -> float:\n",
    "        self._stack = Stack()\n",
    "        for ch in postfix.replace(\" \", \"\"):\n",
    "            if ch.isdigit():\n",
    "                self._stack.push(float(ch))\n",
    "            elif ch in \"+-*/^\":\n",
    "                if self._stack.size() < 2:\n",
    "                    raise ValueError(\"Malformed expression\")\n",
    "                b = self._stack.pop()\n",
    "                a = self._stack.pop()\n",
    "                self._stack.push(self._apply(ch, b, a))\n",
    "            else:\n",
    "                raise ValueError(f\"Bad token {ch}\")\n",
    "        if self._stack.size() != 1:\n",
    "            raise ValueError(\"Malformed expression\")\n",
    "        return self._stack.pop()\n",
    "\n",
    "ev = PostfixEvaluator()\n",
    "for expr in [\"432+*\", \"23+5*\", \"82/3-\"]:\n",
    "    print(f\"{expr} → {ev.evaluate(expr)}\")\n"
   ]
  },
  {
   "cell_type": "markdown",
   "id": "ebf220a4",
   "metadata": {},
   "source": [
    "\n",
    "### 📝 Explanation: Postfix Evaluator\n",
    "\n",
    "This evaluates mathematical expressions in **postfix (RPN)** form.\n",
    "\n",
    "**Algorithm:**\n",
    "1. Read each symbol from left to right.\n",
    "2. If it’s a number → push to stack.\n",
    "3. If it’s an operator → pop top two numbers, apply the operator, and push the result.\n",
    "4. Continue until expression ends.\n",
    "5. The final stack value = result.\n",
    "\n",
    "**Example:**\n",
    "```\n",
    "Postfix: 432+*  \n",
    "Step: 3+2=5, then 4*5=20  \n",
    "Output → 20.0\n",
    "```\n"
   ]
  },
  {
   "cell_type": "markdown",
   "id": "4f2d5a41",
   "metadata": {},
   "source": [
    "## ✅ Task 5: Linear Search"
   ]
  },
  {
   "cell_type": "code",
   "execution_count": 7,
   "id": "9a40365f",
   "metadata": {},
   "outputs": [
    {
     "name": "stdout",
     "output_type": "stream",
     "text": [
      "Searching for 20 → Index: 2\n",
      "Searching for 99 → Index: -1\n"
     ]
    }
   ],
   "source": [
    "\n",
    "class LinearSearch:\n",
    "    def __init__(self, data):\n",
    "        self.data = list(data)\n",
    "\n",
    "    def find(self, target):\n",
    "        for i, x in enumerate(self.data):\n",
    "            if x == target:\n",
    "                return i\n",
    "        return -1\n",
    "\n",
    "ls = LinearSearch([10, 30, 20, 50])\n",
    "print(\"Searching for 20 → Index:\", ls.find(20))\n",
    "print(\"Searching for 99 → Index:\", ls.find(99))\n"
   ]
  },
  {
   "cell_type": "markdown",
   "id": "50bdec43",
   "metadata": {},
   "source": [
    "\n",
    "### 📝 Explanation: Linear Search\n",
    "\n",
    "**Linear Search** is the simplest search method — check every element one by one.\n",
    "\n",
    "**How it works:**\n",
    "1. Start from index 0.\n",
    "2. Compare each element with target.\n",
    "3. If found → return index.\n",
    "4. If reached end without finding → return -1.\n",
    "\n",
    "**Example:**\n",
    "```\n",
    "List: [10, 30, 20, 50]\n",
    "Search for 20 → found at index 2\n",
    "Search for 99 → not found → -1\n",
    "```\n"
   ]
  },
  {
   "cell_type": "markdown",
   "id": "4eef9274",
   "metadata": {},
   "source": [
    "\n",
    "## 🎯 Wrap-up & Quick Quiz\n",
    "\n",
    "**What you built:**\n",
    "- Reusable `Stack` class  \n",
    "- `BracketChecker` using Stack  \n",
    "- `InfixToPostfix` converter  \n",
    "- `PostfixEvaluator`  \n",
    "- `LinearSearch`\n",
    "\n",
    "### 🧩 Quick Quiz:\n",
    "1. Why does postfix evaluation not need parentheses?  \n",
    "2. What condition makes parentheses not balanced during scanning?  \n",
    "3. In infix→postfix, when do we pop an operator of equal precedence from the stack?\n"
   ]
  }
 ],
 "metadata": {
  "kernelspec": {
   "display_name": "Python 3 (ipykernel)",
   "language": "python",
   "name": "python3"
  },
  "language_info": {
   "codemirror_mode": {
    "name": "ipython",
    "version": 3
   },
   "file_extension": ".py",
   "mimetype": "text/x-python",
   "name": "python",
   "nbconvert_exporter": "python",
   "pygments_lexer": "ipython3",
   "version": "3.13.7"
  }
 },
 "nbformat": 4,
 "nbformat_minor": 5
}
