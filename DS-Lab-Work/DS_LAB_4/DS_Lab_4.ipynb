{
 "cells": [
  {
   "cell_type": "markdown",
   "id": "005e013d",
   "metadata": {},
   "source": [
    "\n",
    "# 🧠 OOP Data Structures — Lab 4 (2 Hours)\n",
    "\n",
    "### Student Info:\n",
    "Name: `Muhammad Asif`  \n",
    "Roll: `2024-csre-008`  \n",
    "Section: `Evening`\n"
   ]
  },
  {
   "cell_type": "markdown",
   "id": "201ad082",
   "metadata": {},
   "source": [
    "## ✅ Task 1: Stack Class — Lecture 6"
   ]
  },
  {
   "cell_type": "code",
   "execution_count": 7,
   "id": "f223d557",
   "metadata": {},
   "outputs": [
    {
     "name": "stdout",
     "output_type": "stream",
     "text": [
      "Is stack empty? True\n",
      "Current Stack: []\n",
      "Pushed 10 → Stack: [10]\n",
      "Pushed 20 → Stack: [10, 20]\n",
      "Peek → 20\n",
      "Stack after peek: [10, 20]\n",
      "Pop → 20\n",
      "Stack after pop: [10]\n",
      "Pop → 10\n",
      "Stack after pop: []\n",
      "Is stack empty? True\n",
      "Error: Stack underflow\n"
     ]
    }
   ],
   "source": [
    "\n",
    "class Stack:\n",
    "    def __init__(self):\n",
    "        self._data = []\n",
    "\n",
    "    def push(self, item):\n",
    "        self._data.append(item)\n",
    "\n",
    "    def pop(self):\n",
    "        if self.is_empty():\n",
    "            raise IndexError(\"Stack underflow\")\n",
    "        return self._data.pop()\n",
    "\n",
    "    def peek(self):\n",
    "        if self.is_empty():\n",
    "            raise IndexError(\"Empty stack\")\n",
    "        return self._data[-1]\n",
    "\n",
    "    def is_empty(self):\n",
    "        return len(self._data) == 0\n",
    "\n",
    "    def size(self):\n",
    "        return len(self._data)\n"
   ]
  },
  {
   "cell_type": "markdown",
   "id": "05cd2b0c-7bf0-4ed0-9cb5-54c1a1933042",
   "metadata": {},
   "source": [
    "####  Quick tests for Stack Class"
   ]
  },
  {
   "cell_type": "code",
   "execution_count": 8,
   "id": "37f96042-8da1-4dfe-baae-98d536c0e9e7",
   "metadata": {},
   "outputs": [
    {
     "name": "stdout",
     "output_type": "stream",
     "text": [
      "Is stack empty? True\n",
      "Current Stack: []\n",
      "Pushed 10 → Stack: [10]\n",
      "Pushed 20 → Stack: [10, 20]\n",
      "Peek → 20\n",
      "Stack after peek: [10, 20]\n",
      "Pop → 20\n",
      "Stack after pop: [10]\n",
      "Pop → 10\n",
      "Stack after pop: []\n",
      "Is stack empty? True\n",
      "Error: Stack underflow\n"
     ]
    }
   ],
   "source": [
    "s = Stack()\n",
    "print(\"Is stack empty?\", s.is_empty())\n",
    "print(\"Current Stack:\", s._data)\n",
    "\n",
    "s.push(10)\n",
    "print(\"Pushed 10 → Stack:\", s._data)\n",
    "\n",
    "s.push(20)\n",
    "print(\"Pushed 20 → Stack:\", s._data)\n",
    "\n",
    "print(\"Peek →\", s.peek())\n",
    "print(\"Stack after peek:\", s._data)\n",
    "\n",
    "print(\"Pop →\", s.pop())\n",
    "print(\"Stack after pop:\", s._data)\n",
    "\n",
    "print(\"Pop →\", s.pop())\n",
    "print(\"Stack after pop:\", s._data)\n",
    "\n",
    "print(\"Is stack empty?\", s.is_empty())\n",
    "try:\n",
    "    s.pop()\n",
    "except IndexError as e:\n",
    "    print(\"Error:\", e)"
   ]
  },
  {
   "cell_type": "markdown",
   "id": "bdf0fc5d-02a2-45a6-8d11-b6e0f6fde032",
   "metadata": {},
   "source": [
    "## ✅ Task 2: BracketChecker — Balanced Parentheses"
   ]
  },
  {
   "cell_type": "code",
   "execution_count": 3,
   "id": "8b67d98f",
   "metadata": {},
   "outputs": [
    {
     "name": "stdout",
     "output_type": "stream",
     "text": [
      "{[()]} → Balanced? True\n",
      "([)] → Balanced? False\n",
      "(((()))) → Balanced? True\n",
      ")( → Balanced? False\n"
     ]
    }
   ],
   "source": [
    "\n",
    "class BracketChecker:\n",
    "    def __init__(self):\n",
    "        self._stack = Stack()\n",
    "\n",
    "    def _is_open(self, ch):\n",
    "        return ch in \"([{\"\n",
    "    \n",
    "    def _matches(self, open_br, close_br):\n",
    "        pairs = {')': '(', ']': '[', '}': '{'}\n",
    "        return pairs.get(close_br) == open_br\n",
    "\n",
    "    def is_balanced(self, expr: str) -> bool:\n",
    "        self._stack = Stack()\n",
    "        for ch in expr:\n",
    "            if self._is_open(ch):\n",
    "                self._stack.push(ch)\n",
    "            elif ch in \")]}\":\n",
    "                if self._stack.is_empty():\n",
    "                    return False\n",
    "                top = self._stack.pop()\n",
    "                if not self._matches(top, ch):\n",
    "                    return False\n",
    "        return self._stack.is_empty()\n"
   ]
  },
  {
   "cell_type": "code",
   "execution_count": 10,
   "id": "3cb8dbd1-4d78-4c7c-969c-46a1daa18000",
   "metadata": {},
   "outputs": [
    {
     "name": "stdout",
     "output_type": "stream",
     "text": [
      "{[()]} → Balanced? True\n",
      "([)] → Balanced? False\n",
      "(((()))) → Balanced? True\n",
      ")( → Balanced? False\n",
      "([)] → Balanced? False\n"
     ]
    }
   ],
   "source": [
    " # Quick tests\n",
    "bc = BracketChecker()\n",
    "for expr in [\"{[()]}\", \"([)]\", \"(((())))\", \")(\"]:\n",
    "    print(expr, \"→ Balanced?\", bc.is_balanced(expr))\n",
    "expr2 = \"([)]\"\n",
    "print(expr2, \"→ Balanced?\", bc.is_balanced(expr2))\n",
    "expr3 = \"(((())))\""
   ]
  },
  {
   "cell_type": "markdown",
   "id": "5ff983de",
   "metadata": {},
   "source": [
    "## ✅ Task 3: Infix → Postfix Converter"
   ]
  },
  {
   "cell_type": "code",
   "execution_count": 11,
   "id": "fea42383",
   "metadata": {},
   "outputs": [
    {
     "name": "stdout",
     "output_type": "stream",
     "text": [
      "A+B*C → ABC*+\n",
      "(A+B)*C → AB+C*\n",
      "A^B^C → ABC^^\n",
      "A*(B+C*D) → ABCD*+*\n"
     ]
    }
   ],
   "source": [
    "\n",
    "class InfixToPostfix:\n",
    "    def __init__(self):\n",
    "        self._prec = {'^': 3, '*': 2, '/': 2, '+': 1, '-': 1}\n",
    "        self._right_assoc = {'^'}\n",
    "        self._stack = Stack()\n",
    "\n",
    "    def _is_operand(self, ch):\n",
    "        return ch.isalnum()\n",
    "\n",
    "    def convert(self, infix: str) -> str:\n",
    "        out = []\n",
    "        self._stack = Stack()\n",
    "        for ch in infix.replace(\" \", \"\"):\n",
    "            if self._is_operand(ch):\n",
    "                out.append(ch)\n",
    "            elif ch == '(':\n",
    "                self._stack.push(ch)\n",
    "            elif ch == ')':\n",
    "                while not self._stack.is_empty() and self._stack.peek() != '(':\n",
    "                    out.append(self._stack.pop())\n",
    "                if self._stack.is_empty():\n",
    "                    raise ValueError(\"Mismatched parentheses\")\n",
    "                self._stack.pop()\n",
    "            else:\n",
    "                while (not self._stack.is_empty()\n",
    "                       and self._stack.peek() != '('\n",
    "                       and (self._prec[self._stack.peek()] > self._prec[ch]\n",
    "                            or (self._prec[self._stack.peek()] == self._prec[ch]\n",
    "                                and ch not in self._right_assoc))):\n",
    "                    out.append(self._stack.pop())\n",
    "                self._stack.push(ch)\n",
    "        while not self._stack.is_empty():\n",
    "            top = self._stack.pop()\n",
    "            if top == '(':\n",
    "                raise ValueError(\"Mismatched parentheses\")\n",
    "            out.append(top)\n",
    "        return \"\".join(out)\n",
    "# Quick test\n",
    "conv = InfixToPostfix()\n",
    "for expr in [\"A+B*C\", \"(A+B)*C\", \"A^B^C\", \"A*(B+C*D)\"]:\n",
    "    print(f\"{expr} → {conv.convert(expr)}\")\n"
   ]
  },
  {
   "cell_type": "markdown",
   "id": "2dd4da96",
   "metadata": {},
   "source": [
    "## ✅ Task 4: Postfix Evaluator"
   ]
  },
  {
   "cell_type": "code",
   "execution_count": 12,
   "id": "844d4565",
   "metadata": {},
   "outputs": [
    {
     "name": "stdout",
     "output_type": "stream",
     "text": [
      "432+* → 20.0\n",
      "23+5* → 25.0\n",
      "82/3- → 1.0\n"
     ]
    }
   ],
   "source": [
    "\n",
    "class PostfixEvaluator:\n",
    "    def __init__(self):\n",
    "        self._stack = Stack()\n",
    "\n",
    "    def _apply(self, op, b, a):\n",
    "        if op == '+': return a + b\n",
    "        if op == '-': return a - b\n",
    "        if op == '*': return a * b\n",
    "        if op == '/': return a / b\n",
    "        if op == '^': return a ** b\n",
    "        raise ValueError(f\"Unknown operator {op}\")\n",
    "\n",
    "    def evaluate(self, postfix: str) -> float:\n",
    "        self._stack = Stack()\n",
    "        for ch in postfix.replace(\" \", \"\"):\n",
    "            if ch.isdigit():\n",
    "                self._stack.push(float(ch))\n",
    "            elif ch in \"+-*/^\":\n",
    "                if self._stack.size() < 2:\n",
    "                    raise ValueError(\"Malformed expression\")\n",
    "                b = self._stack.pop()\n",
    "                a = self._stack.pop()\n",
    "                self._stack.push(self._apply(ch, b, a))\n",
    "            else:\n",
    "                raise ValueError(f\"Bad token {ch}\")\n",
    "        if self._stack.size() != 1:\n",
    "            raise ValueError(\"Malformed expression\")\n",
    "        return self._stack.pop()\n",
    "# Quick test\n",
    "ev = PostfixEvaluator()\n",
    "for expr in [\"432+*\", \"23+5*\", \"82/3-\"]:\n",
    "    print(f\"{expr} → {ev.evaluate(expr)}\")\n"
   ]
  },
  {
   "cell_type": "markdown",
   "id": "502cbc78",
   "metadata": {},
   "source": [
    "## ✅ Task 5: Linear Search"
   ]
  },
  {
   "cell_type": "code",
   "execution_count": 6,
   "id": "b92d29c9",
   "metadata": {},
   "outputs": [
    {
     "name": "stdout",
     "output_type": "stream",
     "text": [
      "Searching for 20 → Index: 2\n",
      "Searching for 99 → Index: -1\n"
     ]
    }
   ],
   "source": [
    "\n",
    "class LinearSearch:\n",
    "    def __init__(self, data):\n",
    "        self.data = list(data)\n",
    "\n",
    "    def find(self, target):\n",
    "        for i, x in enumerate(self.data):\n",
    "            if x == target:\n",
    "                return i\n",
    "        return -1\n",
    "# Quick test\n",
    "ls = LinearSearch([10, 30, 20, 50])\n",
    "print(\"Searching for 20 → Index:\", ls.find(20))\n",
    "print(\"Searching for 99 → Index:\", ls.find(99))\n"
   ]
  },
  {
   "cell_type": "markdown",
   "id": "b727e1ee",
   "metadata": {},
   "source": [
    "\n",
    "## 🎯 Wrap-up & Quick Quiz\n",
    "\n",
    "**What you built:**\n",
    "- Reusable `Stack` class  \n",
    "- `BracketChecker` using Stack  \n",
    "- `InfixToPostfix` converter  \n",
    "- `PostfixEvaluator`  \n",
    "- `LinearSearch`\n",
    "\n",
    "### 🧩 Quick Quiz:\n",
    "1. Why does postfix evaluation not need parentheses?  \n",
    "2. What condition makes parentheses not balanced during scanning?  \n",
    "3. In infix→postfix, when do we pop an operator of equal precedence from the stack?\n"
   ]
  }
 ],
 "metadata": {
  "kernelspec": {
   "display_name": "Python 3 (ipykernel)",
   "language": "python",
   "name": "python3"
  },
  "language_info": {
   "codemirror_mode": {
    "name": "ipython",
    "version": 3
   },
   "file_extension": ".py",
   "mimetype": "text/x-python",
   "name": "python",
   "nbconvert_exporter": "python",
   "pygments_lexer": "ipython3",
   "version": "3.13.7"
  }
 },
 "nbformat": 4,
 "nbformat_minor": 5
}
