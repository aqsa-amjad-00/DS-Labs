{
 "cells": [
  {
   "cell_type": "code",
   "execution_count": 7,
   "id": "d8372dac-de4f-4149-bd0c-9a2420d01c02",
   "metadata": {},
   "outputs": [
    {
     "name": "stdout",
     "output_type": "stream",
     "text": [
      "Deque now: ['Sara', 'Ali', 'Hamza']\n",
      "Removed from rear: Hamza\n",
      "Removed from front: Sara\n",
      "Deque after removals: ['Ali']\n"
     ]
    }
   ],
   "source": [
    "from collections import deque\n",
    "dq = deque()\n",
    "dq.append('Ali')        # add to rear\n",
    "dq.appendleft('Sara')   # add to front\n",
    "dq.append('Hamza')      # add to rear\n",
    "print('Deque now:', list(dq))  # ['Sara', 'Ali', 'Hamza']\n",
    "print('Removed from rear:', dq.pop())      # 'Hamza'\n",
    "print('Removed from front:', dq.popleft()) # 'Sara'\n",
    "print('Deque after removals:', list(dq))   # ['Ali'"
   ]
  },
  {
   "cell_type": "markdown",
   "id": "2f123d7e-c639-4826-bc44-10e5e1d21a83",
   "metadata": {},
   "source": [
    "# Teaching Implementation + Helper Printer"
   ]
  },
  {
   "cell_type": "code",
   "execution_count": 2,
   "id": "f70d6e98-2cef-4d4b-8eaa-3e95c8d5a3ad",
   "metadata": {},
   "outputs": [
    {
     "name": "stdout",
     "output_type": "stream",
     "text": [
      "------------------------------\n"
     ]
    }
   ],
   "source": [
    "class Deque:\n",
    "    def __init__(self):\n",
    "        # Internal storage for items; left side = 'front', right side = 'rear'\n",
    "        self.items = []\n",
    "    def is_empty(self):\n",
    "        # True if no elements are stored\n",
    "        return len(self.items) == 0\n",
    "    def add_front(self, item):\n",
    "        self.items.insert(0, item)\n",
    "    def add_rear(self, item):\n",
    "        # Append at rear (end of list). Amortized O(1).\n",
    "        self.items.append(item)\n",
    "    def remove_front(self):\n",
    "        # Remove and return front item (index 0) if not empty; else None\n",
    "        if self.is_empty():\n",
    "            return None  # Underflow guard\n",
    "        return self.items.pop(0)  # O(n) due to shifting left\n",
    "    def remove_rear(self):\n",
    "        # Remove and return rear item (last element) if not empty; else None\n",
    "        if self.is_empty():\n",
    "            return None  # Underflow guard\n",
    "        return self.items.pop()   # O(1)\n",
    "    def size(self):\n",
    "        # Current number of elements\n",
    "        return len(self.items)\n",
    "def show_state(step_label, dq_obj):\n",
    "    \n",
    "    # Example: \"Step 1 → after adding an element\"\n",
    "    print(step_label)\n",
    "    # dq_obj.items refers to the internal Python list holding deque elements\n",
    "    print('  items:', dq_obj.items)\n",
    "    # dq_obj.size() calls the size() method of the Deque class\n",
    "    print('  size :', dq_obj.size())\n",
    "print('-' * 30)"
   ]
  },
  {
   "cell_type": "code",
   "execution_count": 3,
   "id": "0228934c-b2e0-4e32-b099-6d9c609f6163",
   "metadata": {},
   "outputs": [
    {
     "name": "stdout",
     "output_type": "stream",
     "text": [
      "Step 0 → created empty deque\n",
      "  items: []\n",
      "  size : 0\n",
      "After add_rear('Ali')\n",
      "  items: ['Ali']\n",
      "  size : 1\n",
      "After 2 inserts (front+rear)\n",
      "  items: ['Sara', 'Ali', 'Hamza']\n",
      "  size : 3\n",
      "Removed (rear): Hamza\n",
      "Removed (front): Sara\n",
      "After 2 removals\n",
      "  items: ['Ali']\n",
      "  size : 1\n"
     ]
    }
   ],
   "source": [
    "if __name__ == '__main__':\n",
    "    dq = Deque()\n",
    "    show_state('Step 0 → created empty deque', dq)\n",
    "    dq.add_rear('Ali')\n",
    "    show_state(\"After add_rear('Ali')\", dq)\n",
    "    dq.add_front('Sara')\n",
    "    dq.add_rear('Hamza')\n",
    "    show_state('After 2 inserts (front+rear)', dq)\n",
    "    out1 = dq.remove_rear()\n",
    "    out2 = dq.remove_front()\n",
    "    print('Removed (rear):', out1)\n",
    "    print('Removed (front):', out2)\n",
    "    show_state('After 2 removals', dq)"
   ]
  },
  {
   "cell_type": "markdown",
   "id": "896d7ebe-5c8a-44fd-a528-9562e280c398",
   "metadata": {},
   "source": [
    "#  4) Problem 1 – Doorway Traffic Simulation\n",
    " Problem With Explaination: Design a system for a doorway where:\n",
    "- Normal students usually enter from the rear (queue forms behind the door).\n",
    "- VIP students enter from the front (they get precedence).\n",
    "- Occasionally, due to an emergency, some people exit from the front.\n",
    "- After a series of operations, print who remains in the line and its size"
   ]
  },
  {
   "cell_type": "code",
   "execution_count": 4,
   "id": "6296dd85-5ec5-4e34-aeb5-10e857c58bea",
   "metadata": {},
   "outputs": [
    {
     "name": "stdout",
     "output_type": "stream",
     "text": [
      "Final remaining people: ['Ali']\n",
      "Final size: 1\n",
      "Start → Empty doorway line\n",
      "  items: []\n",
      "  size : 0\n",
      "After Step 1 → 3 normal arrivals at REAR\n",
      "  items: ['Student-1', 'Student-2', 'Student-3']\n",
      "  size : 3\n",
      "After Step 2 → VIP-1 enters at FRONT\n",
      "  items: ['VIP-1', 'Student-1', 'Student-2', 'Student-3']\n",
      "  size : 4\n",
      "Emergency exit (FRONT): VIP-1\n",
      "After Step 3 → one exit from FRONT\n",
      "  items: ['Student-1', 'Student-2', 'Student-3']\n",
      "  size : 3\n",
      "After Step 4 → two more normals (REAR) + VIP-2 (FRONT)\n",
      "  items: ['VIP-2', 'Student-1', 'Student-2', 'Student-3', 'Student-4', 'Student-5']\n",
      "  size : 6\n",
      "Exit (REAR): Student-5\n",
      "After Step 5 → one exit from REAR\n",
      "  items: ['VIP-2', 'Student-1', 'Student-2', 'Student-3', 'Student-4']\n",
      "  size : 5\n"
     ]
    }
   ],
   "source": [
    "def doorway_simulation():\n",
    "    dq = Deque()  # Start with an empty deque (front=left, rear=right)\n",
    "    show_state('Start → Empty doorway line', dq)\n",
    "    # Step 1: normal students arrive at the rear (they join the end of the line)\n",
    "    dq.add_rear('Student-1')\n",
    "    dq.add_rear('Student-2')\n",
    "    dq.add_rear('Student-3')\n",
    "    show_state('After Step 1 → 3 normal arrivals at REAR', dq)\n",
    "    # Step 2: a VIP arrives and gets access at the FRONT\n",
    "    dq.add_front('VIP-1')\n",
    "    show_state('After Step 2 → VIP-1 enters at FRONT', dq)\n",
    "    # Step 3: emergency exit at the FRONT (e.g., closest to the door leaves)\n",
    "    left_front = dq.remove_front()  # likely removes VIP-1\n",
    "    print('Emergency exit (FRONT):', left_front)\n",
    "    show_state('After Step 3 → one exit from FRONT', dq)\n",
    "    # Step 4: more arrivals (rear) and a second VIP (front)\n",
    "    dq.add_rear('Student-4')\n",
    "    dq.add_rear('Student-5')\n",
    "    dq.add_front('VIP-2')\n",
    "    show_state('After Step 4 → two more normals (REAR) + VIP-2 (FRONT)', dq)\n",
    "    # Step 5: one person exits from REAR (last to join leaves)\n",
    "    left_rear = dq.remove_rear()\n",
    "    print('Exit (REAR):', left_rear)\n",
    "    show_state('After Step 5 → one exit from REAR', dq)\n",
    "# Step 6: final report\n",
    "print('Final remaining people:', dq.items)\n",
    "print('Final size:', dq.size())\n",
    " # Run the simulation\n",
    "doorway_simulation()"
   ]
  },
  {
   "cell_type": "markdown",
   "id": "a16789a3-63bd-47d6-8ce9-0ddd90647367",
   "metadata": {},
   "source": [
    "# Problem 2 – Palindrome Checker Using Deque"
   ]
  },
  {
   "cell_type": "code",
   "execution_count": 6,
   "id": "ebe2512d-85ba-49e1-9be7-f8a8269de4f1",
   "metadata": {},
   "outputs": [
    {
     "name": "stdout",
     "output_type": "stream",
     "text": [
      "'Racecar' → True\n",
      "'Never odd or even' → True\n",
      "'Was it a car or a cat I saw?' → True\n",
      "'Hello' → False\n",
      "'A man, a plan, a canal: Panama!' → True\n"
     ]
    }
   ],
   "source": [
    "def is_palindrome(text):\n",
    "     # 1) Normalize input: lowercase + keep only alphanumeric characters\n",
    "    normalized = []\n",
    "    for ch in text:\n",
    "        if ch.isalnum():\n",
    "            normalized.append(ch.lower())\n",
    "\n",
    "     # 2) Load into deque (front=left, rear=right)\n",
    "        dq = Deque()\n",
    "        for ch in normalized:\n",
    "             dq.add_rear(ch)            # push characters at the rear (end)\n",
    "    # 3) Compare front vs rear until deque has 0 or 1 element left\n",
    "    while dq.size() > 1:\n",
    "        left = dq.remove_front()   # front character\n",
    "        right = dq.remove_rear()   # rear character\n",
    "        if left != right:\n",
    "            return False           # mismatch → not a palindrome\n",
    "    return True  # all matches → palindrome\n",
    "     # ---------- Quick tests ---------\n",
    "tests = [\n",
    "    'Racecar',\n",
    "    'Never odd or even',\n",
    "    'Was it a car or a cat I saw?',\n",
    "    'Hello',\n",
    "    'A man, a plan, a canal: Panama!'\n",
    " ]\n",
    "for s in tests:\n",
    "    print(f\"{s!r} →\", is_palindrome(s))"
   ]
  }
 ],
 "metadata": {
  "kernelspec": {
   "display_name": "Python 3 (ipykernel)",
   "language": "python",
   "name": "python3"
  },
  "language_info": {
   "codemirror_mode": {
    "name": "ipython",
    "version": 3
   },
   "file_extension": ".py",
   "mimetype": "text/x-python",
   "name": "python",
   "nbconvert_exporter": "python",
   "pygments_lexer": "ipython3",
   "version": "3.13.5"
  }
 },
 "nbformat": 4,
 "nbformat_minor": 5
}
